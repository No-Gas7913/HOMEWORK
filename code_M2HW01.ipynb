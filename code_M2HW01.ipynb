{
 "cells": [
  {
   "cell_type": "markdown",
   "metadata": {},
   "source": [
    "Homework M2HW01\n",
    "========"
   ]
  },
  {
   "cell_type": "code",
   "execution_count": 1,
   "metadata": {},
   "outputs": [
    {
     "name": "stdout",
     "output_type": "stream",
     "text": [
      "Operating System=Windows 10\n",
      "Python=3.6.6 |Anaconda custom (64-bit)| (default, Jun 28 2018, 11:27:44) [MSC v.1900 64 bit (AMD64)]\n",
      "notebook=(5, 5, 0)\n",
      "numpy=1.14.5\n"
     ]
    }
   ],
   "source": [
    "import sys\n",
    "import platform\n",
    "import notebook\n",
    "import numpy as np\n",
    "print(f'Operating System={platform.system()} {platform.release()}')\n",
    "print(f'Python={sys.version}')\n",
    "print(f'notebook={notebook.version_info}')\n",
    "print(f'numpy={np.version.version}')"
   ]
  },
  {
   "cell_type": "code",
   "execution_count": 2,
   "metadata": {},
   "outputs": [],
   "source": [
    "import random"
   ]
  },
  {
   "cell_type": "code",
   "execution_count": 3,
   "metadata": {},
   "outputs": [],
   "source": [
    "def M2HW01P1(M=100, N=6):\n",
    "    \"\"\"\n",
    "    M: number of trials\n",
    "    N: number of faces in a die, which should be set to 6 for this problem.\n",
    "    \"\"\"\n",
    "    \n",
    "    expectation_estimate = 0\n",
    "    \n",
    "    ###################################################################################\n",
    "    \n",
    "    ### Fill in here with your Monte Carlo simulation to calculate expectation_estimate\n",
    "    \n",
    "    ###################################################################################\n",
    "    \n",
    "    return expectation_estimate"
   ]
  },
  {
   "cell_type": "code",
   "execution_count": 4,
   "metadata": {},
   "outputs": [
    {
     "name": "stdout",
     "output_type": "stream",
     "text": [
      "Wall time: 2.83 s\n",
      "14.69176\n"
     ]
    }
   ],
   "source": [
    "%time e = M2HW01P1(100000)\n",
    "print(e) # e should be close to 14.7."
   ]
  }
 ],
 "metadata": {
  "kernelspec": {
   "display_name": "Python 3",
   "language": "python",
   "name": "python3"
  },
  "language_info": {
   "codemirror_mode": {
    "name": "ipython",
    "version": 3
   },
   "file_extension": ".py",
   "mimetype": "text/x-python",
   "name": "python",
   "nbconvert_exporter": "python",
   "pygments_lexer": "ipython3",
   "version": "3.6.6"
  }
 },
 "nbformat": 4,
 "nbformat_minor": 2
}
